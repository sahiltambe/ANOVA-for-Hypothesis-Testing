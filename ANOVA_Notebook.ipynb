{
 "cells": [
  {
   "cell_type": "markdown",
   "metadata": {},
   "source": [
    "# ANOVA for Hypothesis Testing"
   ]
  },
  {
   "cell_type": "markdown",
   "metadata": {},
   "source": [
    "ANOVA, which stands for Analysis of Variance, is a statistical method used to analyze differences among group means and their associated procedures. It’s an essential tool in Data Science, particularly when comparing three or more groups for statistical significance"
   ]
  },
  {
   "cell_type": "markdown",
   "metadata": {},
   "source": [
    "## Introduction to ANOVA\n",
    "\n",
    "ANOVA is a Hypothesis Testing technique used when the objective is to compare the means of three or more different groups to determine if they are statistically different from each other. It’s a technique that helps understand whether the differences observed in data samples are meaningful or simply due to random variation.\n",
    "\n",
    "The primary purpose of ANOVA is to test if there is any statistically significant difference between the means of different groups. It is done under the hypothesis that any observed differences in sample means are due to random variation. ANOVA helps in determining whether the evidence is strong enough to reject this hypothesis, thus concluding that the differences in means are statistically significant.\n",
    "\n",
    "There are two main types of ANOVA:\n",
    "\n",
    "- One-way ANOVA: Used when there is only one independent variable. It assesses the impact of this independent variable on a single dependent variable. For instance, it can be used to compare the test scores of students from different classrooms (the independent variable being the classroom and the dependent variable being the test scores). The “one-way” refers to the fact that there is only one factor being considered.\n",
    "\n",
    "- Two-way ANOVA: When the analysis involves two independent variables, we use two-way ANOVA. It not only assesses the individual effects of each independent variable on the dependent variable, but also looks at the interaction effect between the two independent variables. For example, in a study looking at the effect of diet and exercise on weight loss, a two-way ANOVA could determine not only the individual effects of diet and exercise but also whether there is a combined effect of diet and exercise on weight loss."
   ]
  },
  {
   "cell_type": "markdown",
   "metadata": {},
   "source": [
    "## Working of ANOVA step by step:\n",
    "\n",
    "- Step 1: Assume that all group means are equal (there’s no effect or difference).\n",
    "\n",
    "- Step 2: Determine the variance within each group and the variance between groups.\n",
    "\n",
    "- Step 3: Compute the F-ratio, a ratio of the variance between the groups to the variance within the groups. A higher F-ratio indicates that the group means are not all the same.\n",
    "\n",
    "- Step 4: Obtain the P-value associated with the calculated F-ratio. The P-value indicates the probability of observing the data if the null hypothesis is true.\n",
    "\n",
    "- Step 5: If the P-value is below a predetermined threshold (commonly 0.05), reject the null hypothesis, suggesting that at least one group mean is different from the others."
   ]
  },
  {
   "cell_type": "markdown",
   "metadata": {},
   "source": [
    "## An Example Use Case of ANOVA\n",
    "Let’s consider a scenario where a data science professional might use ANOVA.\n",
    "\n",
    "Situation: A nutritionist wants to test the effectiveness of three different diets (Diet A, Diet B, and Diet C) on weight loss. She selects a sample of 60 people, dividing them equally into three groups, with each group following one of the diets for three months.\n",
    "\n",
    "##### Objective: To determine if there is a significant difference in the mean weight loss among the three diet plans.\n",
    "\n",
    "The three diets represent the independent variable (with three levels: A, B, and C), and the weight loss in pounds is the dependent variable. The null hypothesis will be that there is no difference in the mean weight loss among the three diets. We can perform a one-way ANOVA to compare the mean weight loss across the three diets. If the P-value from the ANOVA is less than 0.05, the nutritionist can conclude that there is a statistically significant difference in weight loss among at least two of the diet groups."
   ]
  },
  {
   "cell_type": "markdown",
   "metadata": {},
   "source": [
    "## Implementation using Python\n",
    "\n",
    "Let’s create sample data based on the example use case of ANOVA I mentioned above. We will create a sample dataset based on the example scenario where a nutritionist compares the effectiveness of three different diets on weight loss. We’ll then perform a one-way ANOVA using Python.\n",
    "\n",
    "We will simulate a dataset for 60 people, with 20 people in each of the three diet groups (Diet A, Diet B, Diet C). For simplicity, let’s assume that the weight loss data follows a normal distribution, with different means and standard deviations for each group as shown below:\n",
    "\n",
    "- Diet A: Mean weight loss = 5 lbs, Standard deviation = 1.5 lbs\n",
    "- Diet B: Mean weight loss = 6 lbs, Standard deviation = 1.2 lbs\n",
    "- Diet C: Mean weight loss = 4.5 lbs, Standard deviation = 1.8 lbs"
   ]
  },
  {
   "cell_type": "code",
   "execution_count": 1,
   "metadata": {},
   "outputs": [],
   "source": [
    "import numpy as np\n",
    "import pandas as pd\n",
    "\n",
    "# creating a sample data based on our example\n",
    "np.random.seed(0)\n",
    "\n",
    "n = 20  # number of participants in each group\n",
    "data_a = np.random.normal(5, 1.5, n)  # Diet A\n",
    "data_b = np.random.normal(6, 1.2, n)  # Diet B\n",
    "data_c = np.random.normal(4.5, 1.8, n)  # Diet C"
   ]
  },
  {
   "cell_type": "markdown",
   "metadata": {},
   "source": [
    "We’ll now use Python’s scipy library to perform the one-way ANOVA. The key function we’ll use is scipy.stats.f_oneway:"
   ]
  },
  {
   "cell_type": "code",
   "execution_count": 2,
   "metadata": {},
   "outputs": [
    {
     "name": "stdout",
     "output_type": "stream",
     "text": [
      "F-Value = 14.664807616379283, P-Value = 7.27576956898917e-06\n"
     ]
    }
   ],
   "source": [
    "from scipy import stats\n",
    "\n",
    "# performing ANOVA\n",
    "f_value, p_value = stats.f_oneway(data_a, data_b, data_c)\n",
    "\n",
    "print(f'F-Value = {f_value}, P-Value = {p_value}')"
   ]
  },
  {
   "cell_type": "markdown",
   "metadata": {},
   "source": [
    "The results of the one-way ANOVA on our sample data are as follows:\n",
    "\n",
    "- F-Value: Approximately 14.665\n",
    "- P-Value: Approximately 7.28e-06\n",
    "\n",
    "Since the P-value is significantly less than 0.05, we can reject the null hypothesis. It suggests that there is a statistically significant difference in weight loss among at least two of the diet groups (Diet A, Diet B, and Diet C). It indicates that the effectiveness of these diets in terms of weight loss is not the same."
   ]
  },
  {
   "cell_type": "markdown",
   "metadata": {},
   "source": [
    "## Summary\n",
    "\n",
    "So, The primary purpose of ANOVA is to test if there is any statistically significant difference between the means of different groups. It is done under the hypothesis that any observed differences in sample means are due to random variation. ANOVA helps in determining whether the evidence is strong enough to reject this hypothesis, thus concluding that the differences in means are statistically significant."
   ]
  }
 ],
 "metadata": {
  "kernelspec": {
   "display_name": "Python 3",
   "language": "python",
   "name": "python3"
  },
  "language_info": {
   "codemirror_mode": {
    "name": "ipython",
    "version": 3
   },
   "file_extension": ".py",
   "mimetype": "text/x-python",
   "name": "python",
   "nbconvert_exporter": "python",
   "pygments_lexer": "ipython3",
   "version": "3.12.0"
  }
 },
 "nbformat": 4,
 "nbformat_minor": 2
}
